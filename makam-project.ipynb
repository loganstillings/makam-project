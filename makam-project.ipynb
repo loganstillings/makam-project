{
 "cells": [
  {
   "cell_type": "markdown",
   "metadata": {},
   "source": [
    "# Makam Project"
   ]
  },
  {
   "cell_type": "markdown",
   "metadata": {},
   "source": [
    "Import Music21"
   ]
  },
  {
   "cell_type": "code",
   "execution_count": 2,
   "metadata": {},
   "outputs": [],
   "source": [
    "from music21 import *"
   ]
  },
  {
   "cell_type": "markdown",
   "metadata": {},
   "source": [
    "This cell will remove the key signature from every song in the SymbTr-2.4.3 directory. Note the path for the SymbTr directory and that it should be in the parent directory of the location of this notebook"
   ]
  },
  {
   "cell_type": "code",
   "execution_count": 1,
   "metadata": {},
   "outputs": [],
   "source": [
    "import os\n",
    "import xml.etree.ElementTree as ET\n",
    "\n",
    "makamScoreDirectory = '../SymbTr-2.4.3/MusicXML/' ### Dataset should be at the parent directory\n",
    "for dirPaths, dirNames, makamScores in os.walk(makamScoreDirectory):\n",
    "    for makamScore in makamScores:\n",
    "        tree = ET.parse(os.path.join(makamScoreDirectory, makamScore))\n",
    "        root = tree.getroot()\n",
    "        for att in root.iter('attributes'):\n",
    "            if att.find('key'):\n",
    "                att.remove(att.find('key'))\n",
    "        tree.write(os.path.join(makamScoreDirectory, makamScore))"
   ]
  },
  {
   "cell_type": "markdown",
   "metadata": {},
   "source": [
    "Extract Pitch classes from files"
   ]
  },
  {
   "cell_type": "code",
   "execution_count": 22,
   "metadata": {},
   "outputs": [],
   "source": [
    "makams = {} # object to hold all the makam types with pitch distributions\n",
    "usuls = {} # object to hold all the usul types with pitch distributions\n",
    "\n",
    "# Iterate over all files in the dataset\n",
    "for dirPaths, dirNames, makamScores in os.walk(makamScoreDirectory):\n",
    "    for file in makamScores:\n",
    "        # Parse file name to get makam and usul type\n",
    "        fileNameSegments = file.split('--')\n",
    "        makamType = fileNameSegments[0]\n",
    "        usulType = fileNameSegments[2]\n",
    "        \n",
    "        makamScore = os.path.join(makamScoreDirectory, file)\n",
    "        score = converter.parse(makamScore)\n",
    "        allNotes = score.flat.notes.stream()\n",
    "        \n",
    "        results = [] # array of pitches to store the results\n",
    "        for note in allNotes:\n",
    "            result = note.pitch.step\n",
    "            if note.pitch.accidental:\n",
    "                result += '_' + note.pitch.accidental.name\n",
    "            results.append(result)\n",
    "            \n",
    "        if makamType not in makams:\n",
    "            makams[makamType] = results\n",
    "        else:\n",
    "            makams[makamType] += results\n",
    "        \n",
    "        if usulType not in usuls:\n",
    "            usuls[usulType] = results\n",
    "        else:\n",
    "            usuls[usulType] += results"
   ]
  },
  {
   "cell_type": "code",
   "execution_count": 23,
   "metadata": {},
   "outputs": [],
   "source": [
    "import json\n",
    "\n",
    "with open('./makam-distribution.json', \"w\") as fp:\n",
    "    json.dump(makams, fp)\n",
    "with open('./usul-distribution.json', \"w\") as fp:\n",
    "    json.dump(usuls, fp)"
   ]
  }
 ],
 "metadata": {
  "kernelspec": {
   "display_name": "Python 3",
   "language": "python",
   "name": "python3"
  },
  "language_info": {
   "codemirror_mode": {
    "name": "ipython",
    "version": 3
   },
   "file_extension": ".py",
   "mimetype": "text/x-python",
   "name": "python",
   "nbconvert_exporter": "python",
   "pygments_lexer": "ipython3",
   "version": "3.8.5"
  }
 },
 "nbformat": 4,
 "nbformat_minor": 4
}
