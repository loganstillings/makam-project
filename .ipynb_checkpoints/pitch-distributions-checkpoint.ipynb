{
 "cells": [
  {
   "cell_type": "markdown",
   "metadata": {},
   "source": [
    "# Makam Project"
   ]
  },
  {
   "cell_type": "markdown",
   "metadata": {},
   "source": [
    "Imports and Constants"
   ]
  },
  {
   "cell_type": "code",
   "execution_count": 23,
   "metadata": {},
   "outputs": [],
   "source": [
    "from music21 import *\n",
    "import os\n",
    "import xml.etree.ElementTree as ET\n",
    "import json\n",
    "\n",
    "makamScoreDirectory = '../SymbTr-2.4.3/MusicXML/' ### Dataset should be at the parent directory"
   ]
  },
  {
   "cell_type": "markdown",
   "metadata": {},
   "source": [
    "This cell will remove the key signature from every song in the SymbTr-2.4.3 directory. Note the path for the SymbTr directory and that it should be in the parent directory of the location of this notebook"
   ]
  },
  {
   "cell_type": "code",
   "execution_count": 2,
   "metadata": {},
   "outputs": [],
   "source": [
    "for dirPaths, dirNames, makamScores in os.walk(makamScoreDirectory):\n",
    "    for makamScore in makamScores:\n",
    "        tree = ET.parse(os.path.join(makamScoreDirectory, makamScore))\n",
    "        root = tree.getroot()\n",
    "        for att in root.iter('attributes'):\n",
    "            if att.find('key'):\n",
    "                att.remove(att.find('key'))\n",
    "        tree.write(os.path.join(makamScoreDirectory, makamScore))"
   ]
  },
  {
   "cell_type": "markdown",
   "metadata": {},
   "source": [
    "Extract Pitch classes from files"
   ]
  },
  {
   "cell_type": "code",
   "execution_count": 27,
   "metadata": {},
   "outputs": [],
   "source": [
    "makams = {} # object to hold all the makam types with pitch distributions\n",
    "\n",
    "# Iterate over all files in the dataset\n",
    "for dirPaths, dirNames, makamScores in os.walk(makamScoreDirectory):\n",
    "    for file in makamScores:\n",
    "        # Parse file name to get makam and usul type\n",
    "        fileNameSegments = file.split('--')\n",
    "        makamType = fileNameSegments[0]\n",
    "        formType = fileNameSegments[1]\n",
    "        usulType = fileNameSegments[2]\n",
    "        \n",
    "        makamScore = os.path.join(makamScoreDirectory, file)\n",
    "        score = converter.parse(makamScore)\n",
    "        allNotes = score.flat.notes.stream()\n",
    "        \n",
    "        results = [] # array of pitches/durations to store the results\n",
    "        for note in allNotes:\n",
    "            result = {\n",
    "                'name' : note.pitch.step + str(note.pitch.octave),\n",
    "                'duration' : float(note.duration.quarterLength)\n",
    "                # not sure if quarter length is the best way to use weighted note durations\n",
    "            }\n",
    "            if note.pitch.accidental:\n",
    "                result['name'] += '_' + note.pitch.accidental.name\n",
    "            results.append(result)\n",
    "            \n",
    "        if makamType not in makams:\n",
    "            makams[makamType] = {\n",
    "                'forms': {},\n",
    "                'usuls': {},\n",
    "            }\n",
    "\n",
    "        if formType not in makams[makamType]['forms']:\n",
    "            makams[makamType]['forms'][formType] = {}\n",
    "        if usulType not in makams[makamType]['usuls']:\n",
    "            makams[makamType]['usuls'][usulType] = {}\n",
    "        \n",
    "        for note in results:\n",
    "            if note['name'] in makams[makamType]['forms'][formType]:\n",
    "                makams[makamType]['forms'][formType][note['name']] += note['duration']\n",
    "            else:\n",
    "                makams[makamType]['forms'][formType][note['name']] = note['duration']\n",
    "                \n",
    "            if note['name'] in makams[makamType]['usuls'][usulType]:\n",
    "                makams[makamType]['usuls'][usulType][note['name']] += note['duration']\n",
    "            else:\n",
    "                makams[makamType]['usuls'][usulType][note['name']] = note['duration']"
   ]
  },
  {
   "cell_type": "markdown",
   "metadata": {},
   "source": [
    "Write the distributions to a file"
   ]
  },
  {
   "cell_type": "code",
   "execution_count": 28,
   "metadata": {},
   "outputs": [],
   "source": [
    "with open('./makam-distributions.json', \"w\") as fp:\n",
    "    json.dump(makams, fp)"
   ]
  }
 ],
 "metadata": {
  "kernelspec": {
   "display_name": "Python 3",
   "language": "python",
   "name": "python3"
  },
  "language_info": {
   "codemirror_mode": {
    "name": "ipython",
    "version": 3
   },
   "file_extension": ".py",
   "mimetype": "text/x-python",
   "name": "python",
   "nbconvert_exporter": "python",
   "pygments_lexer": "ipython3",
   "version": "3.8.5"
  }
 },
 "nbformat": 4,
 "nbformat_minor": 4
}
